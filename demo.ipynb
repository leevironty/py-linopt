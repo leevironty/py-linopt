{
 "cells": [
  {
   "cell_type": "markdown",
   "metadata": {},
   "source": [
    "# PuLP w/ custom utils practical demo\n",
    "\n",
    "LP problem is adapted from a homework solution made with Julia and JuMP. Custom utils allow us to leverage np.ndarrays with casing, indexing, sums etc."
   ]
  },
  {
   "cell_type": "code",
   "execution_count": 1,
   "metadata": {},
   "outputs": [],
   "source": [
    "from dataclasses import dataclass\n",
    "import numpy as np\n",
    "from pulp import LpMinimize\n",
    "from util import LpProblemIterable, lpvar"
   ]
  },
  {
   "cell_type": "code",
   "execution_count": 2,
   "metadata": {},
   "outputs": [],
   "source": [
    "@dataclass\n",
    "class ProblemInstance:\n",
    "    \"\"\"Container for problem data.\"\"\"\n",
    "\n",
    "    ni: int     # Number of suppliers      \n",
    "    nj: int     # Number of demand points\n",
    "    nt: int     # Number of periods\n",
    "    c: np.ndarray      # Unit capacity costs per supplier\n",
    "    h: np.ndarray      # Unit storage cost per supplier\n",
    "    m: np.ndarray      # Production cost per supplier\n",
    "    d: np.ndarray      # Client demands in all periods\n",
    "    q: np.ndarray      # Unit costs of unfulfilled demand\n",
    "    f: np.ndarray      # Unit costs to fulfil demands\n"
   ]
  },
  {
   "cell_type": "code",
   "execution_count": 3,
   "metadata": {},
   "outputs": [],
   "source": [
    "# initialise test instance\n",
    "\n",
    "ni = 5\n",
    "nj = 5\n",
    "nt = 5\n",
    "c = np.ones((ni, 1)) * 5\n",
    "h = np.ones((ni, 1)) * 0.1\n",
    "m = np.ones((ni, 1))\n",
    "\n",
    "d = np.zeros((nj, nt))\n",
    "for j in range(nj):\n",
    "    for t in range(nt):\n",
    "        d[j, t] = (j + 1) + 0.05 * t\n",
    "\n",
    "q = np.ones((nj, 1)) * 50\n",
    "\n",
    "f = np.zeros((ni, nj, 1))\n",
    "for i in range(ni):\n",
    "    for j in range(nj):\n",
    "        f[i, j] = abs(i - j)\n",
    "\n",
    "test_instance = ProblemInstance(ni, nj, nt, c, h, m, d, q, f)"
   ]
  },
  {
   "cell_type": "code",
   "execution_count": 4,
   "metadata": {},
   "outputs": [],
   "source": [
    "def solve_instance(ins: ProblemInstance):\n",
    "    # unpack problem definition from instance\n",
    "    ni = ins.ni\n",
    "    nj = ins.nj\n",
    "    nt = ins.nt\n",
    "    c = ins.c\n",
    "    h = ins.h\n",
    "    m = ins.m\n",
    "    d = ins.d\n",
    "    q = ins.q\n",
    "    f = ins.f\n",
    "\n",
    "    # model definition\n",
    "    model = LpProblemIterable(name='supply-chain', sense=LpMinimize)\n",
    "\n",
    "    # variable definitions\n",
    "    lb = dict(lowBound=0)\n",
    "    x = lpvar('x', ni, 1, **lb)\n",
    "    p = lpvar('p', ni, nt, **lb)\n",
    "    k = lpvar('k', ni, nt + 1, **lb)\n",
    "    e = lpvar('e', ni, nj, nt, **lb)\n",
    "    u = lpvar('u', nj, nt, **lb)\n",
    "\n",
    "    # objective definition\n",
    "    obj = (\n",
    "        (c * x).sum() +\n",
    "        (h * k[:, 1:] + m * p).sum() +\n",
    "        (f * e).sum() +\n",
    "        (q * u).sum()\n",
    "    )\n",
    "    model += obj\n",
    "\n",
    "    # constraints\n",
    "    model += p <= x\n",
    "    model += p + k[:, :-1] == e.sum(axis=1) + k[:, 1:]\n",
    "    model += e.sum(axis=0) == d - u\n",
    "    model += k[:, 0] == 0\n",
    "\n",
    "    # solve and return solved instance\n",
    "    model.solve()\n",
    "    return model"
   ]
  },
  {
   "cell_type": "code",
   "execution_count": 5,
   "metadata": {},
   "outputs": [
    {
     "name": "stdout",
     "output_type": "stream",
     "text": [
      "Welcome to the CBC MILP Solver \n",
      "Version: 2.10.3 \n",
      "Build Date: Dec 15 2019 \n",
      "\n",
      "command line - /Users/leevi/.pyenv/versions/3.10.4/envs/py-linopt/lib/python3.10/site-packages/pulp/apis/../solverdir/cbc/osx/64/cbc /var/folders/nc/dhtws2m1317bwzbsxq9n3_gc0000gn/T/a9874e3b2f3846d5aa9ce74bb74f15fa-pulp.mps timeMode elapsed branch printingOptions all solution /var/folders/nc/dhtws2m1317bwzbsxq9n3_gc0000gn/T/a9874e3b2f3846d5aa9ce74bb74f15fa-pulp.sol (default strategy 1)\n",
      "At line 2 NAME          MODEL\n",
      "At line 3 ROWS\n",
      "At line 85 COLUMNS\n",
      "At line 671 RHS\n",
      "At line 752 BOUNDS\n",
      "At line 753 ENDATA\n",
      "Problem MODEL has 80 rows, 210 columns and 405 elements\n",
      "Coin0008I MODEL read with 0 errors\n",
      "Option for timeMode changed from cpu to elapsed\n",
      "Presolve 70 (-10) rows, 200 (-10) columns and 385 (-20) elements\n",
      "Perturbing problem by 0.001% of 50 - largest nonzero change 0.00019720225 ( 0.075142408%) - largest zero change 7.2486756e-05\n",
      "0  Obj 0 Primal inf 77.499975 (25)\n",
      "33  Obj 74.045729 Primal inf 75.449978 (22)\n",
      "65  Obj 123.83809 Primal inf 78.899981 (19)\n",
      "92  Obj 155.26045\n",
      "Optimal - objective value 155.25\n",
      "After Postsolve, objective 155.25, infeasibilities - dual 0 (0), primal 0 (0)\n",
      "Optimal objective 155.25 - 92 iterations time 0.002, Presolve 0.00\n",
      "Option for printingOptions changed from normal to all\n",
      "Total time (CPU seconds):       0.00   (Wallclock seconds):       0.00\n",
      "\n"
     ]
    },
    {
     "data": {
      "text/plain": [
       "1"
      ]
     },
     "execution_count": 5,
     "metadata": {},
     "output_type": "execute_result"
    }
   ],
   "source": [
    "solved_model = solve_instance(test_instance)\n",
    "solved_model.sol_status"
   ]
  },
  {
   "cell_type": "code",
   "execution_count": 6,
   "metadata": {},
   "outputs": [
    {
     "data": {
      "text/plain": [
       "155.24999999999986"
      ]
     },
     "execution_count": 6,
     "metadata": {},
     "output_type": "execute_result"
    }
   ],
   "source": [
    "solved_model.objective.value()"
   ]
  },
  {
   "cell_type": "code",
   "execution_count": null,
   "metadata": {},
   "outputs": [
    {
     "name": "stdout",
     "output_type": "stream",
     "text": [
      "x_0_0: 1.1\n",
      "x_1_0: 2.1\n",
      "x_2_0: 3.1\n",
      "x_3_0: 4.1\n",
      "x_4_0: 5.1\n"
     ]
    }
   ],
   "source": [
    "for var in solved_model.variables():\n",
    "    if var.name.startswith('x'):\n",
    "        print(f'{var.name}: {var.value()}')"
   ]
  }
 ],
 "metadata": {
  "kernelspec": {
   "display_name": "Python 3.10.4 64-bit ('py-linopt')",
   "language": "python",
   "name": "python3"
  },
  "language_info": {
   "codemirror_mode": {
    "name": "ipython",
    "version": 3
   },
   "file_extension": ".py",
   "mimetype": "text/x-python",
   "name": "python",
   "nbconvert_exporter": "python",
   "pygments_lexer": "ipython3",
   "version": "3.10.4"
  },
  "orig_nbformat": 4,
  "vscode": {
   "interpreter": {
    "hash": "3b1e323e94b7609dfee3d7ab5088d4c1b36dd041280c45af6019798497b63bc4"
   }
  }
 },
 "nbformat": 4,
 "nbformat_minor": 2
}
